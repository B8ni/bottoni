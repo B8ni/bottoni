{
 "cells": [
  {
   "cell_type": "markdown",
   "id": "d7370458",
   "metadata": {},
   "source": [
    "---\n",
    "# \"Binary Split\"\n",
    "> \"Binary Split\"\n",
    "\n",
    "- toc: true\n",
    "- branch: master\n",
    "- badges: true\n",
    "- comments: true\n",
    "- author: Francesco Bottoni\n",
    "- categories: [binary, split, wiki]\n",
    "---"
   ]
  },
  {
   "cell_type": "markdown",
   "id": "42bd0e81",
   "metadata": {},
   "source": [
    "![]({{ site.baseurl }}/images/image.png \"Gif\")"
   ]
  },
  {
   "cell_type": "markdown",
   "id": "456efad3",
   "metadata": {},
   "source": [
    "## What's Binary Split\n",
    "\n",
    "It's the foundation of Decision Tree. Right here where happens everything.\n",
    "\n",
    "Giving a feature (column) with unique value, the goal is to calculate a generic score that tells us the one which better split the data into groups."
   ]
  },
  {
   "cell_type": "markdown",
   "id": "a48a9988",
   "metadata": {},
   "source": [
    "### Example Of Binary Split"
   ]
  },
  {
   "cell_type": "markdown",
   "id": "81925b6e",
   "metadata": {},
   "source": [
    "Pseudo-code:\n",
    "- take a column\n",
    "- take unique rows of that column\n",
    "- for each row calculate standard deviation \n",
    "    - for the *left hand side*\n",
    "    - for the *right hand side*\n",
    "- add *lhs* and *rhs* up\n",
    "- mean of *lhs* and *rhs*\n",
    "- select the lowest score\n",
    "    "
   ]
  }
 ],
 "metadata": {
  "kernelspec": {
   "display_name": "Python 3 (ipykernel)",
   "language": "python",
   "name": "python3"
  },
  "language_info": {
   "codemirror_mode": {
    "name": "ipython",
    "version": 3
   },
   "file_extension": ".py",
   "mimetype": "text/x-python",
   "name": "python",
   "nbconvert_exporter": "python",
   "pygments_lexer": "ipython3",
   "version": "3.9.12"
  }
 },
 "nbformat": 4,
 "nbformat_minor": 5
}
